{
  "nbformat": 4,
  "nbformat_minor": 0,
  "metadata": {
    "colab": {
      "provenance": []
    },
    "kernelspec": {
      "name": "python3",
      "display_name": "Python 3"
    },
    "language_info": {
      "name": "python"
    }
  },
  "cells": [
    {
      "cell_type": "code",
      "execution_count": 321,
      "metadata": {
        "colab": {
          "base_uri": "https://localhost:8080/"
        },
        "id": "bn7iTDgK2JZs",
        "outputId": "e00689c8-c2a3-4c1f-d3b7-41b4d1ad1652"
      },
      "outputs": [
        {
          "output_type": "stream",
          "name": "stdout",
          "text": [
            "Name: torch\n",
            "Version: 2.8.0+cu126\n",
            "Summary: Tensors and Dynamic neural networks in Python with strong GPU acceleration\n",
            "Home-page: https://pytorch.org/\n",
            "Author: PyTorch Team\n",
            "Author-email: packages@pytorch.org\n",
            "License: BSD-3-Clause\n",
            "Location: /usr/local/lib/python3.12/dist-packages\n",
            "Requires: filelock, fsspec, jinja2, networkx, nvidia-cublas-cu12, nvidia-cuda-cupti-cu12, nvidia-cuda-nvrtc-cu12, nvidia-cuda-runtime-cu12, nvidia-cudnn-cu12, nvidia-cufft-cu12, nvidia-cufile-cu12, nvidia-curand-cu12, nvidia-cusolver-cu12, nvidia-cusparse-cu12, nvidia-cusparselt-cu12, nvidia-nccl-cu12, nvidia-nvjitlink-cu12, nvidia-nvtx-cu12, setuptools, sympy, triton, typing-extensions\n",
            "Required-by: accelerate, fastai, peft, sentence-transformers, timm, torchaudio, torchdata, torchvision\n"
          ]
        }
      ],
      "source": [
        "!pip show torch"
      ]
    },
    {
      "cell_type": "code",
      "source": [
        "import torch\n",
        "from sklearn.datasets import load_iris\n",
        "import pandas as pd\n",
        "\n",
        "data = load_iris(as_frame=True)[\"frame\"]"
      ],
      "metadata": {
        "id": "UKDLlrBt2whx"
      },
      "execution_count": 322,
      "outputs": []
    },
    {
      "cell_type": "code",
      "source": [
        "import numpy as np\n",
        "import torch.nn as nn\n",
        "import torch.nn.functional as F\n",
        "torch.manual_seed(42)\n",
        "\n",
        "class Model(nn.Module):\n",
        "  def __init__(self):\n",
        "    super().__init__()\n",
        "    self.layers = nn.Sequential(\n",
        "        nn.Linear(4, 12),\n",
        "        nn.ReLU(),\n",
        "\n",
        "        nn.Linear(12, 12),\n",
        "\n",
        "        nn.Linear(12, 3),\n",
        "    )\n",
        "\n",
        "  def forward(self, x):\n",
        "    return self.layers(x)\n",
        "\n",
        "class MyDataset(torch.utils.data.Dataset):\n",
        "  def __init__(self, X, y) -> None:\n",
        "    super().__init__()\n",
        "    self.X = torch.FloatTensor(X)\n",
        "    self.y = torch.LongTensor(y.values)\n",
        "\n",
        "  def __len__(self):\n",
        "    return len(self.X)\n",
        "\n",
        "  def __getitem__(self, index):\n",
        "    return self.X[index], self.y[index]"
      ],
      "metadata": {
        "id": "4B1xOKALLWF8"
      },
      "execution_count": 323,
      "outputs": []
    },
    {
      "cell_type": "code",
      "source": [
        "from sklearn.preprocessing import StandardScaler\n",
        "from sklearn.model_selection import train_test_split\n",
        "feature_labels = data.columns.to_list()\n",
        "feature_labels.remove(\"target\")\n",
        "X_train, X_test, y_train, y_test = train_test_split(data[feature_labels], data[\"target\"], test_size=0.3, random_state=42)\n",
        "scaler = StandardScaler()\n",
        "X_train = scaler.fit_transform(X_train)\n",
        "X_test = scaler.transform(X_test)"
      ],
      "metadata": {
        "id": "kMu0TDgwymnK"
      },
      "execution_count": 324,
      "outputs": []
    },
    {
      "cell_type": "code",
      "source": [
        "y_train[y_train == 0].count()"
      ],
      "metadata": {
        "colab": {
          "base_uri": "https://localhost:8080/"
        },
        "id": "AFudfls2rgYL",
        "outputId": "6281a30e-c851-4ecb-e0c6-d7516a5751b6"
      },
      "execution_count": 325,
      "outputs": [
        {
          "output_type": "execute_result",
          "data": {
            "text/plain": [
              "np.int64(31)"
            ]
          },
          "metadata": {},
          "execution_count": 325
        }
      ]
    },
    {
      "cell_type": "code",
      "source": [
        "train = MyDataset(X_train, y_train)\n",
        "test = MyDataset(X_test, y_test)\n",
        "g = torch.Generator()\n",
        "g.manual_seed(42)\n",
        "train_dataloader = torch.utils.data.DataLoader(train, batch_size=25, shuffle=True, num_workers=0)"
      ],
      "metadata": {
        "id": "a2UqHv7l8GsM"
      },
      "execution_count": 326,
      "outputs": []
    },
    {
      "cell_type": "code",
      "source": [
        "from tqdm import tqdm\n",
        "import seaborn as sns\n",
        "\n",
        "losses = []\n",
        "model = Model()\n",
        "optimizer = torch.optim.SGD(model.parameters(), lr=1)\n",
        "num_epochs = 10\n",
        "\n",
        "for ep in range(num_epochs):\n",
        "  pbar = tqdm(train_dataloader, desc=f\"Эпоха {ep + 1}\", total=len(train_dataloader), leave=True)\n",
        "  model.train()\n",
        "  for x, y in pbar:\n",
        "    model_res = model(x)\n",
        "    loss = F.cross_entropy(model_res, y)\n",
        "    losses.append(loss.item())\n",
        "    optimizer.zero_grad()\n",
        "    loss.backward()\n",
        "    optimizer.step()\n",
        "  model.eval()\n",
        "\n",
        "sns.lineplot(x=range(1, len(losses)+1), y=list(losses))"
      ],
      "metadata": {
        "colab": {
          "base_uri": "https://localhost:8080/",
          "height": 621
        },
        "id": "OnPOOcpL-5a3",
        "outputId": "1b0fb605-7efa-4267-a53a-62218e804d14"
      },
      "execution_count": 327,
      "outputs": [
        {
          "output_type": "stream",
          "name": "stderr",
          "text": [
            "Эпоха 1: 100%|██████████| 5/5 [00:00<00:00, 718.50it/s]\n",
            "Эпоха 2: 100%|██████████| 5/5 [00:00<00:00, 664.83it/s]\n",
            "Эпоха 3: 100%|██████████| 5/5 [00:00<00:00, 521.91it/s]\n",
            "Эпоха 4: 100%|██████████| 5/5 [00:00<00:00, 602.91it/s]\n",
            "Эпоха 5: 100%|██████████| 5/5 [00:00<00:00, 528.80it/s]\n",
            "Эпоха 6: 100%|██████████| 5/5 [00:00<00:00, 614.71it/s]\n",
            "Эпоха 7: 100%|██████████| 5/5 [00:00<00:00, 664.24it/s]\n",
            "Эпоха 8: 100%|██████████| 5/5 [00:00<00:00, 578.62it/s]\n",
            "Эпоха 9: 100%|██████████| 5/5 [00:00<00:00, 634.48it/s]\n",
            "Эпоха 10: 100%|██████████| 5/5 [00:00<00:00, 700.31it/s]\n"
          ]
        },
        {
          "output_type": "execute_result",
          "data": {
            "text/plain": [
              "<Axes: >"
            ]
          },
          "metadata": {},
          "execution_count": 327
        },
        {
          "output_type": "display_data",
          "data": {
            "text/plain": [
              "<Figure size 640x480 with 1 Axes>"
            ],
            "image/png": "[encoded data removed]"
          },
          "metadata": {}
        }
      ]
    },
    {
      "cell_type": "code",
      "source": [
        "from sklearn.metrics import accuracy_score\n",
        "softmax = nn.Softmax(dim=1)\n",
        "X_test = torch.FloatTensor(X_test)\n",
        "y_pred = torch.argmax(softmax(model(X_test)), axis=1)\n",
        "print(accuracy_score(y_test, y_pred))"
      ],
      "metadata": {
        "colab": {
          "base_uri": "https://localhost:8080/"
        },
        "id": "YOuEl9Q8fAoz",
        "outputId": "575d862a-a7ac-4889-9b22-5dbc11d3e18d"
      },
      "execution_count": 328,
      "outputs": [
        {
          "output_type": "stream",
          "name": "stdout",
          "text": [
            "1.0\n"
          ]
        }
      ]
    }
  ]
}